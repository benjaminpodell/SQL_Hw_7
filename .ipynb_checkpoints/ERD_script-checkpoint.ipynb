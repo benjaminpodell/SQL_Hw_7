{
 "cells": [
  {
   "cell_type": "code",
   "execution_count": null,
   "metadata": {},
   "outputs": [],
   "source": [
    "# Creates departments table and makes dept_no the primary key\n",
    "departments\n",
    "-\n",
    "dept_no varchar PK\n",
    "dept_name varchar"
   ]
  },
  {
   "cell_type": "code",
   "execution_count": null,
   "metadata": {},
   "outputs": [],
   "source": [
    "# Creates dept_emp table while mapping emp_no foreign key to employees table emp_no and dept_no foreign key to departments table dept_no\n",
    "dept_emp\n",
    "-\n",
    "emp_no int FK >- employees.emp_no\n",
    "dept_no varchar FK >- departments.dept_no\n",
    "from_date date\n",
    "to_date date"
   ]
  },
  {
   "cell_type": "code",
   "execution_count": null,
   "metadata": {},
   "outputs": [],
   "source": [
    "# Creates dept_manager table while mapping dept_no foreign key to departments table dept_no and emp_no foreign key to employees table emp_no\n",
    "dept_manager\n",
    "-\n",
    "dept_no varchar FK >- departments.dept_no\n",
    "emp_no int FK >- employees.emp_no\n",
    "from_date date\n",
    "to_date date"
   ]
  },
  {
   "cell_type": "code",
   "execution_count": null,
   "metadata": {},
   "outputs": [],
   "source": [
    "# Creates employees table and makes emp_no the primary key\n",
    "employees\n",
    "-\n",
    "emp_no int PK\n",
    "birth_date date\n",
    "first_name varchar\n",
    "last_name varchar\n",
    "gender varchar\n",
    "hire_date date"
   ]
  },
  {
   "cell_type": "code",
   "execution_count": null,
   "metadata": {},
   "outputs": [],
   "source": [
    "# Creates salaries table while mapping emp_no foreign key to employees table emp_no \n",
    "salaries\n",
    "-\n",
    "emp_no int FK >- employees.emp_no\n",
    "salary int\n",
    "from_date date\n",
    "to_date date"
   ]
  },
  {
   "cell_type": "code",
   "execution_count": null,
   "metadata": {},
   "outputs": [],
   "source": [
    "# Creates titles table while mapping emp_no foreign key to employees table emp_no \n",
    "titles\n",
    "-\n",
    "emp_no int FK >- employees.emp_no\n",
    "title varchar\n",
    "from_date date\n",
    "to_date date"
   ]
  }
 ],
 "metadata": {
  "kernelspec": {
   "display_name": "Python [conda env:PythonData]",
   "language": "python",
   "name": "conda-env-PythonData-py"
  },
  "language_info": {
   "codemirror_mode": {
    "name": "ipython",
    "version": 3
   },
   "file_extension": ".py",
   "mimetype": "text/x-python",
   "name": "python",
   "nbconvert_exporter": "python",
   "pygments_lexer": "ipython3",
   "version": "3.6.8"
  }
 },
 "nbformat": 4,
 "nbformat_minor": 2
}
